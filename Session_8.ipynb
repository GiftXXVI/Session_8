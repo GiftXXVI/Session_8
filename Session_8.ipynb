{
 "cells": [
  {
   "cell_type": "markdown",
   "id": "2da08be4-7469-4068-bf1b-1d33a53fd558",
   "metadata": {},
   "source": [
    "# Symmetric Encryption (AES)"
   ]
  },
  {
   "cell_type": "markdown",
   "id": "470b94c5-6aaa-466b-b9aa-8eff019f5644",
   "metadata": {},
   "source": [
    "## Encryption"
   ]
  },
  {
   "cell_type": "code",
   "execution_count": null,
   "id": "bbada609-6c45-4172-aaad-69c0fe4cdb7e",
   "metadata": {},
   "outputs": [],
   "source": [
    "from Crypto.Cipher import AES\n",
    "from Crypto.Random import get_random_bytes\n",
    "\n",
    "data = b'M7_P@55w04D'\n",
    "\n",
    "session_key = get_random_bytes(16)\n",
    "cipher = AES.new(session_key, AES.MODE_EAX)\n",
    "ciphertext, tag = cipher.encrypt_and_digest(data)\n",
    "nonce = cipher.nonce\n",
    "print('Session Key: ', str(session_key))\n",
    "print('CipherText: ', str(ciphertext))\n"
   ]
  },
  {
   "cell_type": "markdown",
   "id": "b11d2722-c43d-4e30-be45-d0761e576130",
   "metadata": {},
   "source": [
    "## Decryption"
   ]
  },
  {
   "cell_type": "code",
   "execution_count": null,
   "id": "3371828b-71c3-45cb-85c5-cae7a493dbeb",
   "metadata": {},
   "outputs": [],
   "source": [
    "cipher = AES.new(session_key, AES.MODE_EAX, nonce)\n",
    "data = cipher.decrypt_and_verify(ciphertext, tag)\n",
    "print('Plaintext: ', data)\n"
   ]
  },
  {
   "cell_type": "markdown",
   "id": "eecd4822-6d5f-4ff5-aeef-9b747d567831",
   "metadata": {},
   "source": [
    "# Asymmetric Encryption (RSA)"
   ]
  },
  {
   "cell_type": "markdown",
   "id": "5568f1ba-5a89-4531-9e78-92e4a7e2dd3b",
   "metadata": {},
   "source": [
    "## Key Generation"
   ]
  },
  {
   "cell_type": "code",
   "execution_count": null,
   "id": "290f6765-54ba-46a5-9da4-70fa2111f702",
   "metadata": {},
   "outputs": [],
   "source": [
    "from Crypto.PublicKey import RSA\n",
    "\n",
    "key = RSA.generate(2048)\n",
    "# sender\n",
    "private_key = key\n",
    "str_private_key = private_key.export_key()\n",
    "\n",
    "# recipient\n",
    "public_key = key.publickey()\n",
    "str_public_key = public_key.export_key()\n",
    "\n",
    "print('\\n Private Key: ', private_key, str_private_key)\n",
    "print('\\n Public Key: ', public_key, str_public_key)\n"
   ]
  },
  {
   "cell_type": "markdown",
   "id": "07602848-ac40-499f-afce-44893d31441f",
   "metadata": {},
   "source": [
    "## Application: Sending Keys\n",
    "\n",
    "### Encrypting a Key (Sender's End)"
   ]
  },
  {
   "cell_type": "code",
   "execution_count": null,
   "id": "1549b590-3a49-4a25-b02a-c5f855ccbc1b",
   "metadata": {},
   "outputs": [],
   "source": [
    "from Crypto.Random import get_random_bytes\n",
    "from Crypto.Cipher import AES, PKCS1_OAEP\n",
    "from json import dumps\n",
    "\n",
    "# Encrypt Key\n",
    "cipher_rsa = PKCS1_OAEP.new(public_key)\n",
    "enc_session_key = cipher_rsa.encrypt(session_key)\n",
    "\n",
    "# Encrypt Message\n",
    "data = b\"Today's lottery winning numbers are: 30,36,4,24,81\"\n",
    "cipher_aes = AES.new(session_key, AES.MODE_EAX)\n",
    "ciphertext, tag = cipher_aes.encrypt_and_digest(data)\n",
    "nonce = cipher_aes.nonce\n",
    "\n",
    "# Print Sent (Encrypted) Message\n",
    "message_sent = {\"Secret\": str(ciphertext), \"Key\": str(\n",
    "    enc_session_key), \"Nonce\": str(nonce)}\n",
    "print(dumps(message_sent, indent=4, sort_keys=True))\n"
   ]
  },
  {
   "cell_type": "markdown",
   "id": "5a8a93b7-98cb-46d6-b329-27f80d5af037",
   "metadata": {},
   "source": [
    "### Decrypting a Key (Recipient's End)"
   ]
  },
  {
   "cell_type": "code",
   "execution_count": null,
   "id": "f9e7af98-249d-4737-a6a2-e7597e88b2eb",
   "metadata": {
    "tags": []
   },
   "outputs": [],
   "source": [
    "# Decrypt Key\n",
    "cipher_rsa = PKCS1_OAEP.new(private_key)\n",
    "decrypted_session_key = cipher_rsa.decrypt(enc_session_key)\n",
    "\n",
    "# Decrypt Message\n",
    "cipher_aes = AES.new(decrypted_session_key, AES.MODE_EAX, nonce)\n",
    "plaintext = cipher_aes.decrypt_and_verify(ciphertext, tag)\n",
    "\n",
    "# Print Message\n",
    "message_received = {\"Secret\": str(plaintext), \"Key\": str(\n",
    "    decrypted_session_key), \"Nonce\": str(nonce)}\n",
    "print(dumps(message_received, indent=4, sort_keys=True))\n"
   ]
  },
  {
   "cell_type": "markdown",
   "id": "ed0c7233-a00b-4852-9245-ecc7077ff539",
   "metadata": {},
   "source": [
    "## Brute Force Attack"
   ]
  },
  {
   "cell_type": "code",
   "execution_count": 22,
   "id": "c3708af1-746a-4cc9-80f5-888196727f68",
   "metadata": {},
   "outputs": [
    {
     "name": "stdout",
     "output_type": "stream",
     "text": [
      "\n",
      "Input: 0\n",
      "Found: 0\n",
      "Time Taken: 0.0000\n",
      "\n",
      "Input: 100\n",
      "Found: 100\n",
      "Time Taken: 0.0002\n",
      "\n",
      "Input: 702020\n",
      "Found: 702020\n",
      "Time Taken: 0.1099\n",
      "\n",
      "Input: 8904710\n",
      "Found: 8904710\n",
      "Time Taken: 0.8460\n"
     ]
    }
   ],
   "source": [
    "import string\n",
    "import itertools\n",
    "import time\n",
    "\n",
    "def brute_force(passwd):\n",
    "    print(f\"\\nInput: {passwd}\")\n",
    "    start = time.perf_counter()\n",
    "    stop = start\n",
    "    end = int(\"\".join(['9' for i in list(str(passwd))]))\n",
    "    guess = 0\n",
    "    while guess <= end: \n",
    "        if passwd == guess:\n",
    "            print(f\"Found: {passwd}\")\n",
    "        guess += 1\n",
    "    stop = time.perf_counter()\n",
    "    print(f\"Time Taken: {stop - start:0.4f}\")\n",
    "    \n",
    "passwds = [0,100,702020,8904710]\n",
    "\n",
    "for passwd in passwds:\n",
    "    brute_force(passwd)\n"
   ]
  },
  {
   "cell_type": "markdown",
   "id": "7187d53f-c7d2-4b66-bb38-180277344866",
   "metadata": {},
   "source": [
    "## Resources\n",
    "- https://pycryptodome.readthedocs.io/en/latest/src/examples.html"
   ]
  },
  {
   "cell_type": "code",
   "execution_count": null,
   "id": "802fde70-2b45-4e1c-9504-0a02772854fb",
   "metadata": {},
   "outputs": [],
   "source": []
  }
 ],
 "metadata": {
  "kernelspec": {
   "display_name": "Python 3 (ipykernel)",
   "language": "python",
   "name": "python3"
  },
  "language_info": {
   "codemirror_mode": {
    "name": "ipython",
    "version": 3
   },
   "file_extension": ".py",
   "mimetype": "text/x-python",
   "name": "python",
   "nbconvert_exporter": "python",
   "pygments_lexer": "ipython3",
   "version": "3.10.4"
  }
 },
 "nbformat": 4,
 "nbformat_minor": 5
}
